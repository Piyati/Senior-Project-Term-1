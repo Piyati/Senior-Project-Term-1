{
  "nbformat": 4,
  "nbformat_minor": 0,
  "metadata": {
    "colab": {
      "provenance": [],
      "authorship_tag": "ABX9TyPTCDvoENCUOj60xqq8Vy6+",
      "include_colab_link": true
    },
    "kernelspec": {
      "name": "python3",
      "display_name": "Python 3"
    },
    "language_info": {
      "name": "python"
    }
  },
  "cells": [
    {
      "cell_type": "markdown",
      "metadata": {
        "id": "view-in-github",
        "colab_type": "text"
      },
      "source": [
        "<a href=\"https://colab.research.google.com/github/Piyati/Senior-Project-Term-1/blob/main/Spilts.ipynb\" target=\"_parent\"><img src=\"https://colab.research.google.com/assets/colab-badge.svg\" alt=\"Open In Colab\"/></a>"
      ]
    },
    {
      "cell_type": "code",
      "execution_count": 1,
      "metadata": {
        "colab": {
          "base_uri": "https://localhost:8080/"
        },
        "id": "sBYVxZwG60Zn",
        "outputId": "601d7b7c-f30e-4a4e-8abf-2b2891d92a45"
      },
      "outputs": [
        {
          "output_type": "stream",
          "name": "stdout",
          "text": [
            "Mounted at /content/drive\n"
          ]
        }
      ],
      "source": [
        "from google.colab import drive\n",
        "drive.mount('/content/drive')"
      ]
    },
    {
      "cell_type": "code",
      "source": [
        "import cv2\n",
        "import multiprocessing\n",
        "import os\n",
        "\n",
        "def process(img,image,output_dir):\n",
        "    height, width = img.shape[0], img.shape[1]\n",
        "    half_width = width//2\n",
        "    half_height = height//2\n",
        "    top_left = img[0:half_height, 0:half_width]\n",
        "    top_right = img[0:half_height, half_width:]\n",
        "    bottom_left = img[half_height:, 0:half_width]\n",
        "    bottom_right = img[half_height:, half_width:]\n",
        "    filename = os.path.basename(image)\n",
        "    cv2.imwrite(f\"{output_dir}/{filename}_tl.jpg\", top_left)\n",
        "    cv2.imwrite(f\"{output_dir}/{filename}_tr.jpg\", top_right)\n",
        "    cv2.imwrite(f\"{output_dir}/{filename}_bl.jpg\", bottom_left)\n",
        "    cv2.imwrite(f\"{output_dir}/{filename}_br.jpg\", bottom_right)\n",
        "\n",
        "if __name__ == '__main__':\n",
        "    #main_folder_name = ['/content/drive/MyDrive/Senior V 4 Grayscale/CLAHE/']\n",
        "    main_folder_name = ['/content/drive/MyDrive/Senior V 4 Grayscale/CLAHE/','/content/drive/MyDrive/Senior V 4 Grayscale/GHE/',\n",
        "                        '/content/drive/MyDrive/Senior V 4 Grayscale/Gray/','/content/drive/MyDrive/Senior V 4 Grayscale/P_CLAHE/',\n",
        "                        '/content/drive/MyDrive/Senior V 4 Grayscale/P_GHE/']\n",
        "    foldername = [\"train_cell/\"]\n",
        "    subfoldername = [\"ce\",\"fi\",\"os\"]\n",
        "\n",
        "    num_processes = multiprocessing.cpu_count()\n",
        "    pool = multiprocessing.Pool(processes=num_processes)\n",
        "\n",
        "    for main_folder in main_folder_name:\n",
        "        for folder in foldername:\n",
        "            for subfolder in subfoldername:\n",
        "                source_dir = main_folder+folder+subfolder\n",
        "                output_dir = main_folder+\"split_new_\"+folder+subfolder\n",
        "                if not os.path.exists(output_dir):\n",
        "                    os.makedirs(output_dir)\n",
        "                else:\n",
        "                    os.rmdir(output_dir)\n",
        "                    os.makedirs(output_dir)\n",
        "                filenames = [os.path.join(source_dir, h) for h in os.listdir(source_dir)]\n",
        "                print(\"now process \", source_dir)\n",
        "                for image in filenames:\n",
        "                    img = cv2.imread(image)\n",
        "                    pool.apply_async(process, args=(img,image,output_dir))\n",
        "    pool.close()\n",
        "    pool.join()\n"
      ],
      "metadata": {
        "colab": {
          "base_uri": "https://localhost:8080/"
        },
        "id": "os9xX4U8609o",
        "outputId": "83e0328e-5dfe-41af-f3d8-38fcc3561281"
      },
      "execution_count": 2,
      "outputs": [
        {
          "output_type": "stream",
          "name": "stdout",
          "text": [
            "now process  /content/drive/MyDrive/Senior V 4 Grayscale/CLAHE/train_cell/ce\n",
            "now process  /content/drive/MyDrive/Senior V 4 Grayscale/CLAHE/train_cell/fi\n",
            "now process  /content/drive/MyDrive/Senior V 4 Grayscale/CLAHE/train_cell/os\n",
            "now process  /content/drive/MyDrive/Senior V 4 Grayscale/GHE/train_cell/ce\n",
            "now process  /content/drive/MyDrive/Senior V 4 Grayscale/GHE/train_cell/fi\n",
            "now process  /content/drive/MyDrive/Senior V 4 Grayscale/GHE/train_cell/os\n",
            "now process  /content/drive/MyDrive/Senior V 4 Grayscale/Gray/train_cell/ce\n",
            "now process  /content/drive/MyDrive/Senior V 4 Grayscale/Gray/train_cell/fi\n",
            "now process  /content/drive/MyDrive/Senior V 4 Grayscale/Gray/train_cell/os\n",
            "now process  /content/drive/MyDrive/Senior V 4 Grayscale/P_CLAHE/train_cell/ce\n",
            "now process  /content/drive/MyDrive/Senior V 4 Grayscale/P_CLAHE/train_cell/fi\n",
            "now process  /content/drive/MyDrive/Senior V 4 Grayscale/P_CLAHE/train_cell/os\n",
            "now process  /content/drive/MyDrive/Senior V 4 Grayscale/P_GHE/train_cell/ce\n",
            "now process  /content/drive/MyDrive/Senior V 4 Grayscale/P_GHE/train_cell/fi\n",
            "now process  /content/drive/MyDrive/Senior V 4 Grayscale/P_GHE/train_cell/os\n"
          ]
        }
      ]
    }
  ]
}