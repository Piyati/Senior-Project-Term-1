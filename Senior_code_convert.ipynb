{
  "cells": [
    {
      "cell_type": "markdown",
      "metadata": {
        "id": "ByRrbaYJ8aEC"
      },
      "source": [
        "P => Piecewise Linear Contrast Stretching\n",
        "\n",
        "GHE => Global Histogram Equalization\n",
        "\n",
        "CLAHE => Contrast Limited Adaptive Histogram Equalization"
      ]
    },
    {
      "cell_type": "code",
      "execution_count": 1,
      "metadata": {
        "id": "tF-Ef7fu8mec"
      },
      "outputs": [],
      "source": [
        "import os\n",
        "import glob\n",
        "import keras\n",
        "import sklearn\n",
        "import cv2 as cv2\n",
        "import numpy as np\n",
        "import pandas as pd\n",
        "import PIL as Image\n",
        "import seaborn as sns\n",
        "import pathlib as path\n",
        "import tensorflow as tf\n",
        "import matplotlib as mpl\n",
        "from datetime import datetime\n",
        "import matplotlib.image as img\n",
        "from keras import backend as k\n",
        "from keras.models import Model\n",
        "import matplotlib.pyplot as plt\n",
        "from keras.utils import np_utils \n",
        "#from google.colab.patches import cv2_imshow\n",
        "from tensorflow.keras.preprocessing import image\n",
        "from tensorflow.keras.datasets import fashion_mnist\n",
        "from keras.layers.convolutional import  MaxPooling2D\n",
        "from sklearn.model_selection import train_test_split\n",
        "from tensorflow.keras.callbacks import ModelCheckpoint\n",
        "from tensorflow.keras.optimizers import Adam,SGD,RMSprop\n",
        "from tensorflow.keras.applications.resnet50 import ResNet50\n",
        "from tensorflow.keras.models import Sequential, Model, load_model\n",
        "from tensorflow.keras import models, layers, optimizers, callbacks\n",
        "from sklearn.metrics import confusion_matrix, classification_report\n",
        "from tensorflow.keras.applications.vgg16 import VGG16,preprocess_input\n",
        "from tensorflow.keras.utils import to_categorical, image_dataset_from_directory\n",
        "from tensorflow.keras.preprocessing.image import ImageDataGenerator,load_img,img_to_array\n",
        "from tensorflow.keras.layers import Dense, Conv2D, Flatten, Dropout, MaxPooling2D, BatchNormalization, ReLU,Flatten,Activation, GlobalAveragePooling2D, Input\n",
        "%matplotlib inline"
      ]
    },
    {
      "attachments": {},
      "cell_type": "markdown",
      "metadata": {
        "id": "-8RXyYgSw4P8"
      },
      "source": [
        "# Convert"
      ]
    },
    {
      "attachments": {},
      "cell_type": "markdown",
      "metadata": {
        "id": "lrs4XKeyw8bG"
      },
      "source": [
        "## convert RGB to gray"
      ]
    },
    {
      "attachments": {},
      "cell_type": "markdown",
      "metadata": {
        "id": "x7eknt61xBTz"
      },
      "source": [
        "### train"
      ]
    },
    {
      "cell_type": "code",
      "execution_count": 113,
      "metadata": {
        "colab": {
          "base_uri": "https://localhost:8080/"
        },
        "id": "6usYqMKD-FIl",
        "outputId": "34ed2a16-3013-4148-d952-0aeb64c7dad0"
      },
      "outputs": [
        {
          "name": "stdout",
          "output_type": "stream",
          "text": [
            "Directory already exist, images will be written in asme folder\n"
          ]
        },
        {
          "ename": "FileNotFoundError",
          "evalue": "[WinError 3] The system cannot find the path specified: '/content/drive/MyDrive/All_Dataset/original/train_cell/Cemento'",
          "output_type": "error",
          "traceback": [
            "\u001b[1;31m---------------------------------------------------------------------------\u001b[0m",
            "\u001b[1;31mFileNotFoundError\u001b[0m                         Traceback (most recent call last)",
            "\u001b[1;32m~\\AppData\\Local\\Temp\\ipykernel_16780\\458195049.py\u001b[0m in \u001b[0;36m<module>\u001b[1;34m\u001b[0m\n\u001b[0;32m      7\u001b[0m \u001b[1;33m\u001b[0m\u001b[0m\n\u001b[0;32m      8\u001b[0m \u001b[1;31m# Folder won't used\u001b[0m\u001b[1;33m\u001b[0m\u001b[1;33m\u001b[0m\u001b[1;33m\u001b[0m\u001b[0m\n\u001b[1;32m----> 9\u001b[1;33m \u001b[0mfiles\u001b[0m \u001b[1;33m=\u001b[0m \u001b[0mos\u001b[0m\u001b[1;33m.\u001b[0m\u001b[0mlistdir\u001b[0m\u001b[1;33m(\u001b[0m\u001b[0mdata_train_ce\u001b[0m\u001b[1;33m)\u001b[0m\u001b[1;33m\u001b[0m\u001b[1;33m\u001b[0m\u001b[0m\n\u001b[0m\u001b[0;32m     10\u001b[0m \u001b[1;33m\u001b[0m\u001b[0m\n\u001b[0;32m     11\u001b[0m \u001b[1;32mfor\u001b[0m \u001b[0mimage\u001b[0m \u001b[1;32min\u001b[0m \u001b[0mfiles\u001b[0m\u001b[1;33m:\u001b[0m\u001b[1;33m\u001b[0m\u001b[1;33m\u001b[0m\u001b[0m\n",
            "\u001b[1;31mFileNotFoundError\u001b[0m: [WinError 3] The system cannot find the path specified: '/content/drive/MyDrive/All_Dataset/original/train_cell/Cemento'"
          ]
        }
      ],
      "source": [
        "data_train_ce = '/content/drive/MyDrive/All_Dataset/original/train_cell/Cemento'\n",
        "gray_train_ce = '/content/drive/MyDrive/All_Dataset/gray/train_cell/ce'\n",
        "try:\n",
        "    makedirs(gray_train_ce)\n",
        "except:\n",
        "    print (\"Directory already exist, images will be written in asme folder\")\n",
        "\n",
        "# Folder won't used\n",
        "files = os.listdir(data_train_ce)\n",
        "\n",
        "for image in files:\n",
        "    img = cv2.imread(os.path.join(data_train_ce,image))\n",
        "    gray = cv2.cvtColor(img,cv2.COLOR_BGR2GRAY) #Convert RGB image to Gray-scale\n",
        "    cv2.imwrite(os.path.join(gray_train_ce,image),gray)"
      ]
    },
    {
      "cell_type": "code",
      "execution_count": null,
      "metadata": {
        "colab": {
          "base_uri": "https://localhost:8080/"
        },
        "id": "SpLsj9yf-FLx",
        "outputId": "97233f66-57cd-4ad8-82a8-802c154c1a62"
      },
      "outputs": [
        {
          "name": "stdout",
          "output_type": "stream",
          "text": [
            "Directory already exist, images will be written in asme folder\n"
          ]
        }
      ],
      "source": [
        "data_train_fi = '/content/drive/MyDrive/All_Dataset/original/train_cell/Fibrous'\n",
        "gray_train_fi = '/content/drive/MyDrive/All_Dataset/gray/train_cell/fi'\n",
        "\n",
        "try:\n",
        "    makedirs(gray_train_fi)\n",
        "except:\n",
        "    print (\"Directory already exist, images will be written in asme folder\")\n",
        "\n",
        "# Folder won't used\n",
        "files = os.listdir(data_train_fi)\n",
        "\n",
        "for image in files:\n",
        "    img = cv2.imread(os.path.join(data_train_fi,image))\n",
        "    gray = cv2.cvtColor(img,cv2.COLOR_BGR2GRAY) #Convert RGB image to Gray-scale\n",
        "    cv2.imwrite(os.path.join(gray_train_fi,image),gray)"
      ]
    },
    {
      "cell_type": "code",
      "execution_count": null,
      "metadata": {
        "colab": {
          "base_uri": "https://localhost:8080/"
        },
        "id": "_1a-qpuZ-FOz",
        "outputId": "cc09b776-9522-4f84-fc63-ac06cc122e9d"
      },
      "outputs": [
        {
          "name": "stdout",
          "output_type": "stream",
          "text": [
            "Directory already exist, images will be written in asme folder\n"
          ]
        }
      ],
      "source": [
        "data_train_os = '/content/drive/MyDrive/All_Dataset/original/train_cell/Ossifying'\n",
        "gray_train_os = '/content/drive/MyDrive/All_Dataset/gray/train_cell/os'\n",
        "try:\n",
        "    makedirs(gray_train_os)\n",
        "except:\n",
        "    print (\"Directory already exist, images will be written in asme folder\")\n",
        "\n",
        "# Folder won't used\n",
        "files = os.listdir(data_train_os)\n",
        "\n",
        "for image in files:\n",
        "    img = cv2.imread(os.path.join(data_train_os,image))\n",
        "    gray = cv2.cvtColor(img,cv2.COLOR_BGR2GRAY) #Convert RGB image to Gray-scale\n",
        "    cv2.imwrite(os.path.join(gray_train_os,image),gray)"
      ]
    },
    {
      "attachments": {},
      "cell_type": "markdown",
      "metadata": {
        "id": "4GZDisg0xFIJ"
      },
      "source": [
        "### test"
      ]
    },
    {
      "cell_type": "code",
      "execution_count": null,
      "metadata": {
        "colab": {
          "base_uri": "https://localhost:8080/"
        },
        "id": "x3NLJR5O-FRd",
        "outputId": "f02d503d-bf8c-4410-88f7-19818983bf9f"
      },
      "outputs": [
        {
          "name": "stdout",
          "output_type": "stream",
          "text": [
            "Directory already exist, images will be written in asme folder\n"
          ]
        }
      ],
      "source": [
        "data_test_ce = '/content/drive/MyDrive/All_Dataset/original/test_cell/Cemento'\n",
        "gray_test_ce = '/content/drive/MyDrive/All_Dataset/gray/test_cell/ce'\n",
        "try:\n",
        "    makedirs(gray_test_ce)\n",
        "except:\n",
        "    print (\"Directory already exist, images will be written in asme folder\")\n",
        "\n",
        "# Folder won't used\n",
        "files = os.listdir(data_test_ce)\n",
        "\n",
        "for image in files:\n",
        "    img = cv2.imread(os.path.join(data_test_ce,image))\n",
        "    gray = cv2.cvtColor(img,cv2.COLOR_BGR2GRAY) #Convert RGB image to Gray-scale\n",
        "    cv2.imwrite(os.path.join(gray_test_ce,image),gray)"
      ]
    },
    {
      "cell_type": "code",
      "execution_count": null,
      "metadata": {
        "colab": {
          "base_uri": "https://localhost:8080/"
        },
        "id": "oH1uVAsI-FUR",
        "outputId": "9a38db95-ee78-4ac3-955b-3c92fa0950cd"
      },
      "outputs": [
        {
          "name": "stdout",
          "output_type": "stream",
          "text": [
            "Directory already exist, images will be written in asme folder\n"
          ]
        }
      ],
      "source": [
        "data_test_fi = '/content/drive/MyDrive/All_Dataset/original/test_cell/Fibrous'\n",
        "gray_test_fi = '/content/drive/MyDrive/All_Dataset/gray/test_cell/fi'\n",
        "try:\n",
        "    makedirs(gray_test_fi)\n",
        "except:\n",
        "    print (\"Directory already exist, images will be written in asme folder\")\n",
        "\n",
        "# Folder won't used\n",
        "files = os.listdir(data_test_fi)\n",
        "\n",
        "for image in files:\n",
        "    img = cv2.imread(os.path.join(data_test_fi,image))\n",
        "    gray = cv2.cvtColor(img,cv2.COLOR_BGR2GRAY) #Convert RGB image to Gray-scale\n",
        "    cv2.imwrite(os.path.join(gray_test_fi,image),gray)"
      ]
    },
    {
      "cell_type": "code",
      "execution_count": null,
      "metadata": {
        "colab": {
          "base_uri": "https://localhost:8080/"
        },
        "id": "aBX_FeGk-FWu",
        "outputId": "5e49289b-216a-4b19-f19b-d516a495b5b8"
      },
      "outputs": [
        {
          "name": "stdout",
          "output_type": "stream",
          "text": [
            "Directory already exist, images will be written in asme folder\n"
          ]
        }
      ],
      "source": [
        "data_test_os =  '/content/drive/MyDrive/All_Dataset/original/test_cell/Ossifying'\n",
        "gray_test_os = '/content/drive/MyDrive/All_Dataset/gray/test_cell/os'\n",
        "try:\n",
        "    makedirs(gray_test_os)\n",
        "except:\n",
        "    print (\"Directory already exist, images will be written in asme folder\")\n",
        "\n",
        "# Folder won't used\n",
        "files = os.listdir(data_test_os)\n",
        "\n",
        "for image in files:\n",
        "    img = cv2.imread(os.path.join(data_test_os,image))\n",
        "    gray = cv2.cvtColor(img,cv2.COLOR_BGR2GRAY) #Convert RGB image to Gray-scale\n",
        "    cv2.imwrite(os.path.join(gray_test_os,image),gray)"
      ]
    },
    {
      "attachments": {},
      "cell_type": "markdown",
      "metadata": {
        "id": "-Mtidk54xw3O"
      },
      "source": [
        "## Convert gray to GHE"
      ]
    },
    {
      "attachments": {},
      "cell_type": "markdown",
      "metadata": {
        "id": "8_1gzXfix1as"
      },
      "source": [
        "### train"
      ]
    },
    {
      "cell_type": "code",
      "execution_count": null,
      "metadata": {
        "colab": {
          "base_uri": "https://localhost:8080/"
        },
        "id": "yIQ4BzhO-FaM",
        "outputId": "d30d7e39-6e6e-4d6d-d895-9b7ce71fdde2"
      },
      "outputs": [
        {
          "name": "stdout",
          "output_type": "stream",
          "text": [
            "Directory already exist, images will be written in asme folder\n"
          ]
        }
      ],
      "source": [
        "gray_train_ce = '/content/drive/MyDrive/All_Dataset/gray/train_cell/ce'\n",
        "ghe_train_ce = '/content/drive/MyDrive/All_Dataset/GHE/train_cell/ce'\n",
        "try:\n",
        "    makedirs(ghe_train_ce)\n",
        "except:\n",
        "    print (\"Directory already exist, images will be written in asme folder\")\n",
        "\n",
        "# Folder won't used\n",
        "files = os.listdir(gray_train_ce)\n",
        "\n",
        "for image in files:\n",
        "    img1 = cv2.imread(os.path.join(gray_train_ce,image))\n",
        "    #img1 = np.uint8(image)\n",
        "    gray1 = cv2.cvtColor(img1,cv2.COLOR_BGR2GRAY)\n",
        "    img_his = cv2.equalizeHist(gray1)\n",
        "    cv2.imwrite(os.path.join(ghe_train_ce,image),img_his)"
      ]
    },
    {
      "cell_type": "code",
      "execution_count": null,
      "metadata": {
        "colab": {
          "base_uri": "https://localhost:8080/"
        },
        "id": "AuO9BUdSzH11",
        "outputId": "78e82541-5e75-418c-8e7a-bb463b49ee97"
      },
      "outputs": [
        {
          "name": "stdout",
          "output_type": "stream",
          "text": [
            "Directory already exist, images will be written in asme folder\n"
          ]
        }
      ],
      "source": [
        "gray_train_fi = '/content/drive/MyDrive/All_Dataset/gray/train_cell/fi'\n",
        "ghe_train_fi ='/content/drive/MyDrive/All_Dataset/GHE/train_cell/fi'\n",
        "try:\n",
        "    makedirs(ghe_train_fi)\n",
        "except:\n",
        "    print (\"Directory already exist, images will be written in asme folder\")\n",
        "\n",
        "# Folder won't used\n",
        "files = os.listdir(gray_train_fi)\n",
        "\n",
        "for image in files:\n",
        "    img1 = cv2.imread(os.path.join(gray_train_fi,image))\n",
        "    #img1 = np.uint8(image)\n",
        "    gray1 = cv2.cvtColor(img1,cv2.COLOR_BGR2GRAY)\n",
        "    img_his = cv2.equalizeHist(gray1)\n",
        "    cv2.imwrite(os.path.join(ghe_train_fi,image),img_his)"
      ]
    },
    {
      "cell_type": "code",
      "execution_count": null,
      "metadata": {
        "colab": {
          "base_uri": "https://localhost:8080/"
        },
        "id": "JDXaNFS1zH43",
        "outputId": "9095ac0c-70e4-4da0-b13c-5d049848b41f"
      },
      "outputs": [
        {
          "name": "stdout",
          "output_type": "stream",
          "text": [
            "Directory already exist, images will be written in asme folder\n"
          ]
        }
      ],
      "source": [
        "gray_train_os = '/content/drive/MyDrive/All_Dataset/gray/train_cell/os' \n",
        "ghe_train_os = '/content/drive/MyDrive/All_Dataset/GHE/train_cell/os'\n",
        "try:\n",
        "    makedirs(ghe_train_os)\n",
        "except:\n",
        "    print (\"Directory already exist, images will be written in asme folder\")\n",
        "\n",
        "# Folder won't used\n",
        "files = os.listdir(gray_train_os)\n",
        "\n",
        "for image in files:\n",
        "    img1 = cv2.imread(os.path.join(gray_train_os,image))\n",
        "    #img1 = np.uint8(image)\n",
        "    gray1 = cv2.cvtColor(img1,cv2.COLOR_BGR2GRAY)\n",
        "    img_his = cv2.equalizeHist(gray1)\n",
        "    cv2.imwrite(os.path.join(ghe_train_os,image),img_his)"
      ]
    },
    {
      "attachments": {},
      "cell_type": "markdown",
      "metadata": {
        "id": "HINDkcrnx4r4"
      },
      "source": [
        "### test"
      ]
    },
    {
      "cell_type": "code",
      "execution_count": null,
      "metadata": {
        "colab": {
          "base_uri": "https://localhost:8080/"
        },
        "id": "EpizP--8x6FG",
        "outputId": "3db3cbb8-7321-49f1-c4cf-f1ce34829b6a"
      },
      "outputs": [
        {
          "name": "stdout",
          "output_type": "stream",
          "text": [
            "Directory already exist, images will be written in asme folder\n"
          ]
        }
      ],
      "source": [
        "gray_test_ce = '/content/drive/MyDrive/All_Dataset/gray/test_cell/ce'\n",
        "ghe_test_ce = '/content/drive/MyDrive/All_Dataset/GHE/test_cell/ce'\n",
        "try:\n",
        "    makedirs(ghe_test_ce)\n",
        "except:\n",
        "    print (\"Directory already exist, images will be written in asme folder\")\n",
        "\n",
        "# Folder won't used\n",
        "files = os.listdir(gray_test_ce)\n",
        "\n",
        "for image in files:\n",
        "    img1 = cv2.imread(os.path.join(gray_test_ce,image))\n",
        "    #img1 = np.uint8(image)\n",
        "    gray1 = cv2.cvtColor(img1,cv2.COLOR_BGR2GRAY)\n",
        "    img_his = cv2.equalizeHist(gray1)\n",
        "    cv2.imwrite(os.path.join(ghe_test_ce,image),img_his)"
      ]
    },
    {
      "cell_type": "code",
      "execution_count": null,
      "metadata": {
        "colab": {
          "base_uri": "https://localhost:8080/"
        },
        "id": "OBuZQIvYzIPf",
        "outputId": "757e3137-f40d-461d-dcaa-fa3825dbb124"
      },
      "outputs": [
        {
          "name": "stdout",
          "output_type": "stream",
          "text": [
            "Directory already exist, images will be written in asme folder\n"
          ]
        }
      ],
      "source": [
        "gray_test_fi = '/content/drive/MyDrive/All_Dataset/gray/test_cell/fi'\n",
        "ghe_test_fi = '/content/drive/MyDrive/All_Dataset/GHE/test_cell/fi'\n",
        "try:\n",
        "    makedirs(ghe_test_fi)\n",
        "except:\n",
        "    print (\"Directory already exist, images will be written in asme folder\")\n",
        "\n",
        "# Folder won't used\n",
        "files = os.listdir(gray_test_fi)\n",
        "\n",
        "for image in files:\n",
        "    img1 = cv2.imread(os.path.join(gray_test_fi,image))\n",
        "    #img1 = np.uint8(image)\n",
        "    gray1 = cv2.cvtColor(img1,cv2.COLOR_BGR2GRAY)\n",
        "    img_his = cv2.equalizeHist(gray1)\n",
        "    cv2.imwrite(os.path.join(ghe_test_fi,image),img_his)"
      ]
    },
    {
      "cell_type": "code",
      "execution_count": null,
      "metadata": {
        "colab": {
          "base_uri": "https://localhost:8080/"
        },
        "id": "VhVCaZ0_zISG",
        "outputId": "b3b6f727-8d5c-4f24-ee68-719821f0773e"
      },
      "outputs": [
        {
          "name": "stdout",
          "output_type": "stream",
          "text": [
            "Directory already exist, images will be written in asme folder\n"
          ]
        }
      ],
      "source": [
        "gray_test_os = '/content/drive/MyDrive/All_Dataset/gray/test_cell/os'\n",
        "ghe_test_os = '/content/drive/MyDrive/All_Dataset/GHE/test_cell/os'\n",
        "try:\n",
        "    makedirs(ghe_test_os)\n",
        "except:\n",
        "    print (\"Directory already exist, images will be written in asme folder\")\n",
        "\n",
        "# Folder won't used\n",
        "files = os.listdir(gray_test_os)\n",
        "\n",
        "for image in files:\n",
        "    img1 = cv2.imread(os.path.join(gray_test_os,image))\n",
        "    #img1 = np.uint8(image)\n",
        "    gray1 = cv2.cvtColor(img1,cv2.COLOR_BGR2GRAY)\n",
        "    img_his = cv2.equalizeHist(gray1)\n",
        "    cv2.imwrite(os.path.join(ghe_test_os,image),img_his)"
      ]
    },
    {
      "attachments": {},
      "cell_type": "markdown",
      "metadata": {
        "id": "zsBjWPak1M6M"
      },
      "source": [
        "## Convert gray to CLAHE\n"
      ]
    },
    {
      "attachments": {},
      "cell_type": "markdown",
      "metadata": {
        "id": "IAwz6Fws1SzS"
      },
      "source": [
        "### train"
      ]
    },
    {
      "cell_type": "code",
      "execution_count": null,
      "metadata": {
        "colab": {
          "base_uri": "https://localhost:8080/"
        },
        "id": "3MgeJ3wK1Q12",
        "outputId": "c360106a-9e88-4231-87e6-85d40427f4d4"
      },
      "outputs": [
        {
          "name": "stdout",
          "output_type": "stream",
          "text": [
            "Directory already exist, images will be written in asme folder\n"
          ]
        }
      ],
      "source": [
        "gray_train_ce = '/content/drive/MyDrive/All_Dataset/gray/train_cell/ce'\n",
        "clahe_train_ce = '/content/drive/MyDrive/All_Dataset/CLAHE/train_cell/ce'\n",
        "\n",
        "try:\n",
        "    makedirs(clahe_train_ce)\n",
        "except:\n",
        "    print (\"Directory already exist, images will be written in asme folder\")\n",
        "\n",
        "# Folder won't used\n",
        "files = os.listdir(gray_train_ce)\n",
        "\n",
        "for image in files:\n",
        "    img2 = cv2.imread(os.path.join(gray_train_ce,image))\n",
        "    gray = cv2.cvtColor(img2,cv2.COLOR_BGR2GRAY)\n",
        "    \n",
        "    clahe = cv2.createCLAHE(clipLimit = 9, tileGridSize=(8,8))\n",
        "\n",
        "    img_clahe = clahe.apply(gray)\n",
        "    cv2.imwrite(os.path.join(clahe_train_ce,image),img_clahe)"
      ]
    },
    {
      "cell_type": "code",
      "execution_count": null,
      "metadata": {
        "colab": {
          "base_uri": "https://localhost:8080/"
        },
        "id": "_ihiG7Fm1UhC",
        "outputId": "d5fd90b2-7865-43ed-aab1-c1910ce1d082"
      },
      "outputs": [
        {
          "name": "stdout",
          "output_type": "stream",
          "text": [
            "Directory already exist, images will be written in asme folder\n"
          ]
        }
      ],
      "source": [
        "gray_train_fi = '/content/drive/MyDrive/All_Dataset/gray/train_cell/fi'\n",
        "clahe_train_fi = '/content/drive/MyDrive/All_Dataset/CLAHE/train_cell/fi'\n",
        "\n",
        "try:\n",
        "    makedirs(clahe_train_fi)\n",
        "except:\n",
        "    print (\"Directory already exist, images will be written in asme folder\")\n",
        "\n",
        "# Folder won't used\n",
        "files = os.listdir(gray_train_fi)\n",
        "\n",
        "for image in files:\n",
        "    img2 = cv2.imread(os.path.join(gray_train_fi,image))\n",
        "    gray = cv2.cvtColor(img2,cv2.COLOR_BGR2GRAY)\n",
        "    \n",
        "    clahe = cv2.createCLAHE(clipLimit = 9, tileGridSize=(8,8))\n",
        "\n",
        "    img_clahe = clahe.apply(gray)\n",
        "    cv2.imwrite(os.path.join(clahe_train_fi,image),img_clahe)"
      ]
    },
    {
      "cell_type": "code",
      "execution_count": null,
      "metadata": {
        "colab": {
          "base_uri": "https://localhost:8080/"
        },
        "id": "whgTm6xs1Uj6",
        "outputId": "cdebf9bb-e087-41f4-f6b3-34c46dd039aa"
      },
      "outputs": [
        {
          "name": "stdout",
          "output_type": "stream",
          "text": [
            "Directory already exist, images will be written in asme folder\n"
          ]
        }
      ],
      "source": [
        "gray_train_os = '/content/drive/MyDrive/All_Dataset/gray/train_cell/os'\n",
        "clahe_train_os = '/content/drive/MyDrive/All_Dataset/CLAHE/train_cell/os'\n",
        "\n",
        "try:\n",
        "    makedirs(clahe_train_os)\n",
        "except:\n",
        "    print (\"Directory already exist, images will be written in asme folder\")\n",
        "\n",
        "# Folder won't used\n",
        "files = os.listdir(gray_train_os)\n",
        "\n",
        "for image in files:\n",
        "    img2 = cv2.imread(os.path.join(gray_train_os,image))\n",
        "    gray = cv2.cvtColor(img2,cv2.COLOR_BGR2GRAY)\n",
        "    \n",
        "    clahe = cv2.createCLAHE(clipLimit = 9, tileGridSize=(8,8))\n",
        "\n",
        "    img_clahe = clahe.apply(gray)\n",
        "    cv2.imwrite(os.path.join(clahe_train_os,image),img_clahe)"
      ]
    },
    {
      "attachments": {},
      "cell_type": "markdown",
      "metadata": {
        "id": "-rms15LH1UzH"
      },
      "source": [
        "### test"
      ]
    },
    {
      "cell_type": "code",
      "execution_count": null,
      "metadata": {
        "colab": {
          "base_uri": "https://localhost:8080/"
        },
        "id": "FUpxvhwH1XWV",
        "outputId": "edc071d9-43a4-4647-8f78-7623ce9b7e86"
      },
      "outputs": [
        {
          "name": "stdout",
          "output_type": "stream",
          "text": [
            "Directory already exist, images will be written in asme folder\n"
          ]
        }
      ],
      "source": [
        "gray_test_ce = '/content/drive/MyDrive/All_Dataset/gray/test_cell/ce'\n",
        "clahe_test_ce = '/content/drive/MyDrive/All_Dataset/CLAHE/test_cell/ce'\n",
        "\n",
        "try:\n",
        "    makedirs(clahe_test_ce)\n",
        "except:\n",
        "    print (\"Directory already exist, images will be written in asme folder\")\n",
        "\n",
        "# Folder won't used\n",
        "files = os.listdir(gray_test_ce)\n",
        "\n",
        "for image in files:\n",
        "    img2 = cv2.imread(os.path.join(gray_test_ce,image))\n",
        "    gray = cv2.cvtColor(img2,cv2.COLOR_BGR2GRAY)\n",
        "    \n",
        "    clahe = cv2.createCLAHE(clipLimit = 9, tileGridSize=(8,8))\n",
        "\n",
        "    img_clahe = clahe.apply(gray)\n",
        "    cv2.imwrite(os.path.join(clahe_test_ce,image),img_clahe)"
      ]
    },
    {
      "cell_type": "code",
      "execution_count": null,
      "metadata": {
        "colab": {
          "base_uri": "https://localhost:8080/"
        },
        "id": "boP-XH1I1YxE",
        "outputId": "d01b95e2-4960-4292-b4c2-765cfb10b5ab"
      },
      "outputs": [
        {
          "name": "stdout",
          "output_type": "stream",
          "text": [
            "Directory already exist, images will be written in asme folder\n"
          ]
        }
      ],
      "source": [
        "gray_test_fi = '/content/drive/MyDrive/All_Dataset/gray/test_cell/fi'\n",
        "clahe_test_fi = '/content/drive/MyDrive/All_Dataset/CLAHE/test_cell/fi'\n",
        "\n",
        "try:\n",
        "    makedirs(clahe_test_fi)\n",
        "except:\n",
        "    print (\"Directory already exist, images will be written in asme folder\")\n",
        "\n",
        "# Folder won't used\n",
        "files = os.listdir(gray_test_fi)\n",
        "\n",
        "for image in files:\n",
        "    img2 = cv2.imread(os.path.join(gray_test_fi,image))\n",
        "    gray = cv2.cvtColor(img2,cv2.COLOR_BGR2GRAY)\n",
        "    \n",
        "    clahe = cv2.createCLAHE(clipLimit = 9, tileGridSize=(8,8))\n",
        "\n",
        "    img_clahe = clahe.apply(gray)\n",
        "    cv2.imwrite(os.path.join(clahe_test_fi,image),img_clahe)"
      ]
    },
    {
      "cell_type": "code",
      "execution_count": null,
      "metadata": {
        "colab": {
          "base_uri": "https://localhost:8080/"
        },
        "id": "Ntypo78y1Yzn",
        "outputId": "6db00f54-2385-4131-fa3d-32eb8d2c8703"
      },
      "outputs": [
        {
          "name": "stdout",
          "output_type": "stream",
          "text": [
            "Directory already exist, images will be written in asme folder\n"
          ]
        }
      ],
      "source": [
        "gray_test_os = '/content/drive/MyDrive/All_Dataset/gray/test_cell/os'\n",
        "clahe_test_os = '/content/drive/MyDrive/All_Dataset/CLAHE/test_cell/os'\n",
        "\n",
        "try:\n",
        "    makedirs(clahe_test_os)\n",
        "except:\n",
        "    print (\"Directory already exist, images will be written in asme folder\")\n",
        "\n",
        "# Folder won't used\n",
        "files = os.listdir(gray_test_os)\n",
        "\n",
        "for image in files:\n",
        "    img2 = cv2.imread(os.path.join(gray_test_os,image))\n",
        "    gray = cv2.cvtColor(img2,cv2.COLOR_BGR2GRAY)\n",
        "    \n",
        "    clahe = cv2.createCLAHE(clipLimit = 9, tileGridSize=(8,8))\n",
        "\n",
        "    img_clahe = clahe.apply(gray)\n",
        "    cv2.imwrite(os.path.join(clahe_test_os,image),img_clahe)"
      ]
    },
    {
      "cell_type": "markdown",
      "metadata": {
        "id": "ZxP0SLpl2s5E"
      },
      "source": [
        "## Gray + Piecewise-Linear "
      ]
    },
    {
      "cell_type": "code",
      "execution_count": null,
      "metadata": {
        "id": "y9TKpGP83Ef_"
      },
      "outputs": [],
      "source": [
        "def pixelVal(pix, r1, s1, r2, s2): \n",
        "    if (0 <= pix and pix <= r1): \n",
        "        return (s1/r1)*pix \n",
        "    elif (r1 < pix and pix <= r2): \n",
        "        return ((s2-s1)/(r2-r1)) * (pix-r1) + s1 \n",
        "    else: \n",
        "        return ((255-s2)/(255-r2)) * (pix-r2) + s2"
      ]
    },
    {
      "attachments": {},
      "cell_type": "markdown",
      "metadata": {
        "id": "akNn_Gxv3A50"
      },
      "source": [
        "### train"
      ]
    },
    {
      "cell_type": "code",
      "execution_count": null,
      "metadata": {
        "colab": {
          "base_uri": "https://localhost:8080/"
        },
        "id": "p2YLXfyN3AA4",
        "outputId": "5c2b1ab2-c633-4735-9c66-e2470fb00804"
      },
      "outputs": [
        {
          "name": "stdout",
          "output_type": "stream",
          "text": [
            "Directory already exist, images will be written in asme folder\n"
          ]
        }
      ],
      "source": [
        "gray_train_ce = '/content/drive/MyDrive/All_Dataset/gray/train_cell/ce'\n",
        "gray_p_train_ce ='/content/drive/MyDrive/All_Dataset/gray + P/train_cell/ce'\n",
        "try:\n",
        "    makedirs(gray_p_train_ce)\n",
        "except:\n",
        "    print (\"Directory already exist, images will be written in asme folder\")\n",
        "\n",
        "# Folder won't used\n",
        "files = os.listdir(gray_train_ce)\n",
        "\n",
        "for image in files:\n",
        "    img2 = cv2.imread(os.path.join(gray_train_ce,image))\n",
        "    r1 = 105\n",
        "    s1 = 0\n",
        "    r2= 210\n",
        "    s2 = 255\n",
        "    pixelVal_vec = np.vectorize(pixelVal)\n",
        "    img_contrast_stretched = pixelVal_vec(img2, r1, s1, r2, s2)\n",
        "    \n",
        "    cv2.imwrite(os.path.join(gray_p_train_ce,image),img_contrast_stretched)"
      ]
    },
    {
      "cell_type": "code",
      "execution_count": null,
      "metadata": {
        "colab": {
          "base_uri": "https://localhost:8080/"
        },
        "id": "ohVm48N23Cz6",
        "outputId": "95c0130f-8c19-415e-bd28-ecf1ebd6ac2f"
      },
      "outputs": [
        {
          "name": "stdout",
          "output_type": "stream",
          "text": [
            "Directory already exist, images will be written in asme folder\n"
          ]
        }
      ],
      "source": [
        "gray_train_fi = '/content/drive/MyDrive/All_Dataset/gray/train_cell/fi'\n",
        "gray_p_train_fi ='/content/drive/MyDrive/All_Dataset/gray + P/train_cell/fi'\n",
        "try:\n",
        "    makedirs(gray_p_train_fi)\n",
        "except:\n",
        "    print (\"Directory already exist, images will be written in asme folder\")\n",
        "\n",
        "# Folder won't used\n",
        "files = os.listdir(gray_train_fi)\n",
        "\n",
        "for image in files:\n",
        "    img2 = cv2.imread(os.path.join(gray_train_fi,image))\n",
        "    r1 = 105\n",
        "    s1 = 0\n",
        "    r2= 210\n",
        "    s2 = 255\n",
        "    pixelVal_vec = np.vectorize(pixelVal)\n",
        "    img_contrast_stretched = pixelVal_vec(img2, r1, s1, r2, s2)\n",
        "    \n",
        "    cv2.imwrite(os.path.join(gray_p_train_fi,image),img_contrast_stretched)"
      ]
    },
    {
      "cell_type": "code",
      "execution_count": null,
      "metadata": {
        "colab": {
          "base_uri": "https://localhost:8080/"
        },
        "id": "xQKGXHH23C24",
        "outputId": "3c53dae4-15f3-4cb0-e690-8e9dd74ff26d"
      },
      "outputs": [
        {
          "name": "stdout",
          "output_type": "stream",
          "text": [
            "Directory already exist, images will be written in asme folder\n"
          ]
        }
      ],
      "source": [
        "gray_train_os = '/content/drive/MyDrive/All_Dataset/gray/train_cell/os'\n",
        "gray_p_train_os ='/content/drive/MyDrive/All_Dataset/gray + P/train_cell/os'\n",
        "try:\n",
        "    makedirs(gray_p_train_os)\n",
        "except:\n",
        "    print (\"Directory already exist, images will be written in asme folder\")\n",
        "\n",
        "# Folder won't used\n",
        "files = os.listdir(gray_train_os)\n",
        "\n",
        "for image in files:\n",
        "    img2 = cv2.imread(os.path.join(gray_train_os,image))\n",
        "    r1 =105\n",
        "    s1 = 0\n",
        "    r2= 210\n",
        "    s2 = 255\n",
        "    pixelVal_vec = np.vectorize(pixelVal)\n",
        "    img_contrast_stretched = pixelVal_vec(img2, r1, s1, r2, s2)\n",
        "    \n",
        "    cv2.imwrite(os.path.join(gray_p_train_os,image),img_contrast_stretched)"
      ]
    },
    {
      "attachments": {},
      "cell_type": "markdown",
      "metadata": {
        "id": "KeM2UlKo3DAt"
      },
      "source": [
        "### test"
      ]
    },
    {
      "cell_type": "code",
      "execution_count": null,
      "metadata": {
        "colab": {
          "base_uri": "https://localhost:8080/"
        },
        "id": "qwNyHcrg5Szl",
        "outputId": "6f138691-f049-4649-fbca-9826d9caba23"
      },
      "outputs": [
        {
          "name": "stdout",
          "output_type": "stream",
          "text": [
            "Directory already exist, images will be written in asme folder\n"
          ]
        }
      ],
      "source": [
        "gray_test_ce = '/content/drive/MyDrive/All_Dataset/gray/test_cell/ce'\n",
        "gray_p_test_ce ='/content/drive/MyDrive/All_Dataset/gray + P/test_cell/ce'\n",
        "try:\n",
        "    makedirs(gray_p_test_ce)\n",
        "except:\n",
        "    print (\"Directory already exist, images will be written in asme folder\")\n",
        "\n",
        "# Folder won't used\n",
        "files = os.listdir(gray_test_ce)\n",
        "\n",
        "for image in files:\n",
        "    img2 = cv2.imread(os.path.join(gray_test_ce,image))\n",
        "    r1 = 105\n",
        "    s1 = 0\n",
        "    r2= 210\n",
        "    s2 = 255\n",
        "    pixelVal_vec = np.vectorize(pixelVal)\n",
        "    img_contrast_stretched = pixelVal_vec(img2, r1, s1, r2, s2)\n",
        "    \n",
        "    cv2.imwrite(os.path.join(gray_p_test_ce,image),img_contrast_stretched)"
      ]
    },
    {
      "cell_type": "code",
      "execution_count": null,
      "metadata": {
        "colab": {
          "base_uri": "https://localhost:8080/"
        },
        "id": "2yceq9HC3D_2",
        "outputId": "440f6ee2-9aa0-4470-e604-4a9f7ddceacf"
      },
      "outputs": [
        {
          "name": "stdout",
          "output_type": "stream",
          "text": [
            "Directory already exist, images will be written in asme folder\n"
          ]
        }
      ],
      "source": [
        "gray_test_fi = '/content/drive/MyDrive/All_Dataset/gray/test_cell/fi'\n",
        "gray_p_test_fi ='/content/drive/MyDrive/All_Dataset/gray + P/test_cell/fi'\n",
        "try:\n",
        "    makedirs(gray_p_test_fi)\n",
        "except:\n",
        "    print (\"Directory already exist, images will be written in asme folder\")\n",
        "\n",
        "# Folder won't used\n",
        "files = os.listdir(gray_test_fi)\n",
        "\n",
        "for image in files:\n",
        "    img2 = cv2.imread(os.path.join(gray_test_fi,image))\n",
        "    r1 = 105\n",
        "    s1 = 0\n",
        "    r2= 210\n",
        "    s2 = 255\n",
        "    pixelVal_vec = np.vectorize(pixelVal)\n",
        "    img_contrast_stretched = pixelVal_vec(img2, r1, s1, r2, s2)\n",
        "    \n",
        "    cv2.imwrite(os.path.join(gray_p_test_fi,image),img_contrast_stretched)"
      ]
    },
    {
      "cell_type": "code",
      "execution_count": null,
      "metadata": {
        "colab": {
          "base_uri": "https://localhost:8080/"
        },
        "id": "MIt7xyOA3Ffk",
        "outputId": "e45028ed-de6c-4f42-9134-382a960d6607"
      },
      "outputs": [
        {
          "name": "stdout",
          "output_type": "stream",
          "text": [
            "Directory already exist, images will be written in asme folder\n"
          ]
        }
      ],
      "source": [
        "gray_test_os = '/content/drive/MyDrive/All_Dataset/gray/test_cell/os'\n",
        "gray_p_test_os ='/content/drive/MyDrive/All_Dataset/gray + P/test_cell/os'\n",
        "try:\n",
        "    makedirs(gray_p_test_os)\n",
        "except:\n",
        "    print (\"Directory already exist, images will be written in asme folder\")\n",
        "\n",
        "# Folder won't used\n",
        "files = os.listdir(gray_test_os)\n",
        "\n",
        "for image in files:\n",
        "    img2 = cv2.imread(os.path.join(gray_test_os,image))\n",
        "    r1 = 105\n",
        "    s1 = 0\n",
        "    r2= 210\n",
        "    s2 = 255\n",
        "    pixelVal_vec = np.vectorize(pixelVal)\n",
        "    img_contrast_stretched = pixelVal_vec(img2, r1, s1, r2, s2)\n",
        "    \n",
        "    cv2.imwrite(os.path.join(gray_p_test_os,image),img_contrast_stretched)"
      ]
    },
    {
      "attachments": {},
      "cell_type": "markdown",
      "metadata": {
        "id": "heOPahYu5jwv"
      },
      "source": [
        "## Gray + P + GHE"
      ]
    },
    {
      "attachments": {},
      "cell_type": "markdown",
      "metadata": {
        "id": "n5sI4S7q5oDB"
      },
      "source": [
        "### train"
      ]
    },
    {
      "cell_type": "code",
      "execution_count": null,
      "metadata": {
        "colab": {
          "base_uri": "https://localhost:8080/"
        },
        "id": "qemQslb93FiA",
        "outputId": "6dc176e5-2cef-41c2-e41b-ac261ec3c465"
      },
      "outputs": [
        {
          "name": "stdout",
          "output_type": "stream",
          "text": [
            "Directory already exist, images will be written in asme folder\n"
          ]
        }
      ],
      "source": [
        "gray_p_train_ce = '/content/drive/MyDrive/All_Dataset/gray + P/train_cell/ce'\n",
        "gray_p_ghe_train_ce = '/content/drive/MyDrive/All_Dataset/gray_P_GHE/train_cell/ce'\n",
        "try:\n",
        "    makedirs(gray_p_ghe_train_ce)\n",
        "except:\n",
        "    print (\"Directory already exist, images will be written in asme folder\")\n",
        "\n",
        "# Folder won't used\n",
        "files = os.listdir(gray_p_train_ce)\n",
        "\n",
        "for image in files:\n",
        "    img1 = cv2.imread(os.path.join(gray_p_train_ce,image))\n",
        "    #img1 = np.uint8(image)\n",
        "    gray1 = cv2.cvtColor(img1,cv2.COLOR_BGR2GRAY)\n",
        "    img_his = cv2.equalizeHist(gray1)\n",
        "    cv2.imwrite(os.path.join(gray_p_ghe_train_ce,image),img_his)"
      ]
    },
    {
      "cell_type": "code",
      "execution_count": null,
      "metadata": {
        "colab": {
          "base_uri": "https://localhost:8080/"
        },
        "id": "NWFtSlOV5pke",
        "outputId": "ec010c0d-a743-4878-f155-c0358b97cf30"
      },
      "outputs": [
        {
          "name": "stdout",
          "output_type": "stream",
          "text": [
            "Directory already exist, images will be written in asme folder\n"
          ]
        }
      ],
      "source": [
        "gray_p_train_fi = '/content/drive/MyDrive/All_Dataset/gray + P/train_cell/fi'\n",
        "gray_p_ghe_train_fi = '/content/drive/MyDrive/All_Dataset/gray_P_GHE/train_cell/fi'\n",
        "try:\n",
        "    makedirs(gray_p_ghe_train_fi)\n",
        "except:\n",
        "    print (\"Directory already exist, images will be written in asme folder\")\n",
        "\n",
        "# Folder won't used\n",
        "files = os.listdir(gray_p_train_fi)\n",
        "\n",
        "for image in files:\n",
        "    img1 = cv2.imread(os.path.join(gray_p_train_fi,image))\n",
        "    #img1 = np.uint8(image)\n",
        "    gray1 = cv2.cvtColor(img1,cv2.COLOR_BGR2GRAY)\n",
        "    img_his = cv2.equalizeHist(gray1)\n",
        "    cv2.imwrite(os.path.join(gray_p_ghe_train_fi,image),img_his)"
      ]
    },
    {
      "cell_type": "code",
      "execution_count": null,
      "metadata": {
        "colab": {
          "base_uri": "https://localhost:8080/"
        },
        "id": "tWhxXzPJ5pm0",
        "outputId": "db5edb01-5e4c-4ffb-f1c3-5187ca7230b7"
      },
      "outputs": [
        {
          "name": "stdout",
          "output_type": "stream",
          "text": [
            "Directory already exist, images will be written in asme folder\n"
          ]
        }
      ],
      "source": [
        "gray_p_train_os = '/content/drive/MyDrive/All_Dataset/gray + P/train_cell/os'\n",
        "gray_p_ghe_train_os = '/content/drive/MyDrive/All_Dataset/gray_P_GHE/train_cell/os'\n",
        "try:\n",
        "    makedirs(gray_p_ghe_train_os)\n",
        "except:\n",
        "    print (\"Directory already exist, images will be written in asme folder\")\n",
        "\n",
        "# Folder won't used\n",
        "files = os.listdir(gray_p_train_os)\n",
        "\n",
        "for image in files:\n",
        "    img1 = cv2.imread(os.path.join(gray_p_train_os,image))\n",
        "    #img1 = np.uint8(image)\n",
        "    gray1 = cv2.cvtColor(img1,cv2.COLOR_BGR2GRAY)\n",
        "    img_his = cv2.equalizeHist(gray1)\n",
        "    cv2.imwrite(os.path.join(gray_p_ghe_train_os,image),img_his)"
      ]
    },
    {
      "attachments": {},
      "cell_type": "markdown",
      "metadata": {
        "id": "7D66Cylv5qKS"
      },
      "source": [
        "### test"
      ]
    },
    {
      "cell_type": "code",
      "execution_count": null,
      "metadata": {
        "colab": {
          "base_uri": "https://localhost:8080/"
        },
        "id": "mHOwKFV55rT6",
        "outputId": "f1203cf6-c47b-439d-9e4e-8edb828dba2b"
      },
      "outputs": [
        {
          "name": "stdout",
          "output_type": "stream",
          "text": [
            "Directory already exist, images will be written in asme folder\n"
          ]
        }
      ],
      "source": [
        "gray_p_test_ce = '/content/drive/MyDrive/All_Dataset/gray + P/test_cell/ce'\n",
        "gray_p_ghe_test_ce = '/content/drive/MyDrive/All_Dataset/gray_P_GHE/test_cell/ce'\n",
        "try:\n",
        "    makedirs(gray_p_ghe_test_ce)\n",
        "except:\n",
        "    print (\"Directory already exist, images will be written in asme folder\")\n",
        "\n",
        "# Folder won't used\n",
        "files = os.listdir(gray_p_test_ce)\n",
        "\n",
        "for image in files:\n",
        "    img1 = cv2.imread(os.path.join(gray_p_test_ce,image))\n",
        "    #img1 = np.uint8(image)\n",
        "    gray1 = cv2.cvtColor(img1,cv2.COLOR_BGR2GRAY)\n",
        "    img_his = cv2.equalizeHist(gray1)\n",
        "    cv2.imwrite(os.path.join(gray_p_ghe_test_ce,image),img_his)"
      ]
    },
    {
      "cell_type": "code",
      "execution_count": null,
      "metadata": {
        "colab": {
          "base_uri": "https://localhost:8080/"
        },
        "id": "X6Vm9WcT5rwd",
        "outputId": "603c0bf1-d088-4fa6-8d81-1d6a14102edc"
      },
      "outputs": [
        {
          "name": "stdout",
          "output_type": "stream",
          "text": [
            "Directory already exist, images will be written in asme folder\n"
          ]
        }
      ],
      "source": [
        "gray_p_test_fi = '/content/drive/MyDrive/All_Dataset/gray + P/test_cell/fi'\n",
        "gray_p_ghe_test_fi = '/content/drive/MyDrive/All_Dataset/gray_P_GHE/test_cell/fi'\n",
        "try:\n",
        "    makedirs(gray_p_ghe_test_fi)\n",
        "except:\n",
        "    print (\"Directory already exist, images will be written in asme folder\")\n",
        "\n",
        "# Folder won't used\n",
        "files = os.listdir(gray_p_test_fi)\n",
        "\n",
        "for image in files:\n",
        "    img1 = cv2.imread(os.path.join(gray_p_test_fi,image))\n",
        "    #img1 = np.uint8(image)\n",
        "    gray1 = cv2.cvtColor(img1,cv2.COLOR_BGR2GRAY)\n",
        "    img_his = cv2.equalizeHist(gray1)\n",
        "    cv2.imwrite(os.path.join(gray_p_ghe_test_fi,image),img_his)"
      ]
    },
    {
      "cell_type": "code",
      "execution_count": null,
      "metadata": {
        "colab": {
          "base_uri": "https://localhost:8080/"
        },
        "id": "w8Lz7xeV5r0_",
        "outputId": "3e4283ee-0cf1-4977-eddf-6daa2ff60f6f"
      },
      "outputs": [
        {
          "name": "stdout",
          "output_type": "stream",
          "text": [
            "Directory already exist, images will be written in asme folder\n"
          ]
        }
      ],
      "source": [
        "gray_p_test_os = '/content/drive/MyDrive/All_Dataset/gray + P/test_cell/os'\n",
        "gray_p_ghe_test_os = '/content/drive/MyDrive/All_Dataset/gray_P_GHE/test_cell/os'\n",
        "try:\n",
        "    makedirs(gray_p_ghe_test_os)\n",
        "except:\n",
        "    print (\"Directory already exist, images will be written in asme folder\")\n",
        "\n",
        "# Folder won't used\n",
        "files = os.listdir(gray_p_test_os)\n",
        "\n",
        "for image in files:\n",
        "    img1 = cv2.imread(os.path.join(gray_p_test_os,image))\n",
        "    #img1 = np.uint8(image)\n",
        "    gray1 = cv2.cvtColor(img1,cv2.COLOR_BGR2GRAY)\n",
        "    img_his = cv2.equalizeHist(gray1)\n",
        "    cv2.imwrite(os.path.join(gray_p_ghe_test_os,image),img_his)"
      ]
    },
    {
      "attachments": {},
      "cell_type": "markdown",
      "metadata": {
        "id": "7kMzNYsz5tVT"
      },
      "source": [
        "## Gray + P + CLAHE"
      ]
    },
    {
      "attachments": {},
      "cell_type": "markdown",
      "metadata": {
        "id": "ORU8rbtb56Pt"
      },
      "source": [
        "### train"
      ]
    },
    {
      "cell_type": "code",
      "execution_count": null,
      "metadata": {
        "colab": {
          "base_uri": "https://localhost:8080/"
        },
        "id": "6dc5f1G65u4H",
        "outputId": "32c4020f-6e09-4ee0-be13-c05b875bf3cf"
      },
      "outputs": [
        {
          "name": "stdout",
          "output_type": "stream",
          "text": [
            "Directory already exist, images will be written in asme folder\n"
          ]
        }
      ],
      "source": [
        "gray_p_train_ce = '/content/drive/MyDrive/All_Dataset/gray + P/train_cell/ce'\n",
        "gray_p_clahe_train_ce = '/content/drive/MyDrive/All_Dataset/gray + P + CLAHE/train_cell/ce'\n",
        "\n",
        "try:\n",
        "    makedirs(gray_p_clahe_train_ce)\n",
        "except:\n",
        "    print (\"Directory already exist, images will be written in asme folder\")\n",
        "\n",
        "# Folder won't used\n",
        "files = os.listdir(gray_p_train_ce)\n",
        "\n",
        "for image in files:\n",
        "    img2 = cv2.imread(os.path.join(gray_p_train_ce,image))\n",
        "    gray = cv2.cvtColor(img2,cv2.COLOR_BGR2GRAY)\n",
        "    \n",
        "    clahe = cv2.createCLAHE(clipLimit = 12, tileGridSize=(8,8))\n",
        "\n",
        "    img_clahe = clahe.apply(gray)\n",
        "    cv2.imwrite(os.path.join(gray_p_clahe_train_ce,image),img_clahe)"
      ]
    },
    {
      "cell_type": "code",
      "execution_count": null,
      "metadata": {
        "colab": {
          "base_uri": "https://localhost:8080/"
        },
        "id": "gDRnYj9357f1",
        "outputId": "e5476534-aa29-426a-b3cb-75c58e27c9ec"
      },
      "outputs": [
        {
          "name": "stdout",
          "output_type": "stream",
          "text": [
            "Directory already exist, images will be written in asme folder\n"
          ]
        }
      ],
      "source": [
        "gray_p_train_fi = '/content/drive/MyDrive/All_Dataset/gray + P/train_cell/fi'\n",
        "gray_p_clahe_train_fi = '/content/drive/MyDrive/All_Dataset/gray + P + CLAHE/train_cell/fi'\n",
        "\n",
        "try:\n",
        "    makedirs(gray_p_clahe_train_fi)\n",
        "except:\n",
        "    print (\"Directory already exist, images will be written in asme folder\")\n",
        "\n",
        "# Folder won't used\n",
        "files = os.listdir(gray_p_train_fi)\n",
        "\n",
        "for image in files:\n",
        "    img2 = cv2.imread(os.path.join(gray_p_train_fi,image))\n",
        "    gray = cv2.cvtColor(img2,cv2.COLOR_BGR2GRAY)\n",
        "    \n",
        "    clahe = cv2.createCLAHE(clipLimit = 12, tileGridSize=(8,8))\n",
        "\n",
        "    img_clahe = clahe.apply(gray)\n",
        "    cv2.imwrite(os.path.join(gray_p_clahe_train_fi,image),img_clahe)"
      ]
    },
    {
      "cell_type": "code",
      "execution_count": null,
      "metadata": {
        "colab": {
          "base_uri": "https://localhost:8080/"
        },
        "id": "_9ui6BMs57jk",
        "outputId": "d314ece2-2a48-42dc-cfbf-fa3e9a80074c"
      },
      "outputs": [
        {
          "name": "stdout",
          "output_type": "stream",
          "text": [
            "Directory already exist, images will be written in asme folder\n"
          ]
        }
      ],
      "source": [
        "gray_p_train_os = '/content/drive/MyDrive/All_Dataset/gray + P/train_cell/os'\n",
        "gray_p_clahe_train_os = '/content/drive/MyDrive/All_Dataset/gray + P + CLAHE/train_cell/os'\n",
        "\n",
        "try:\n",
        "    makedirs(gray_p_clahe_train_os)\n",
        "except:\n",
        "    print (\"Directory already exist, images will be written in asme folder\")\n",
        "\n",
        "# Folder won't used\n",
        "files = os.listdir(gray_p_train_os)\n",
        "\n",
        "for image in files:\n",
        "    img2 = cv2.imread(os.path.join(gray_p_train_os,image))\n",
        "    gray = cv2.cvtColor(img2,cv2.COLOR_BGR2GRAY)\n",
        "    \n",
        "    clahe = cv2.createCLAHE(clipLimit = 12, tileGridSize=(8,8))\n",
        "\n",
        "    img_clahe = clahe.apply(gray)\n",
        "    cv2.imwrite(os.path.join(gray_p_clahe_train_os,image),img_clahe)"
      ]
    },
    {
      "attachments": {},
      "cell_type": "markdown",
      "metadata": {
        "id": "cklfoH7a57tV"
      },
      "source": [
        "### test"
      ]
    },
    {
      "cell_type": "code",
      "execution_count": null,
      "metadata": {
        "colab": {
          "base_uri": "https://localhost:8080/"
        },
        "id": "2M6JMcn358p3",
        "outputId": "8abc98d8-0a8b-45d4-9c83-3051650b2203"
      },
      "outputs": [
        {
          "name": "stdout",
          "output_type": "stream",
          "text": [
            "Directory already exist, images will be written in asme folder\n"
          ]
        }
      ],
      "source": [
        "gray_p_test_ce = '/content/drive/MyDrive/All_Dataset/gray + P/test_cell/ce'\n",
        "gray_p_clahe_test_ce = '/content/drive/MyDrive/All_Dataset/gray + P + CLAHE/test_cell/ce'\n",
        "\n",
        "try:\n",
        "    makedirs(gray_p_clahe_test_ce)\n",
        "except:\n",
        "    print (\"Directory already exist, images will be written in asme folder\")\n",
        "\n",
        "# Folder won't used\n",
        "files = os.listdir(gray_p_test_ce)\n",
        "\n",
        "for image in files:\n",
        "    img2 = cv2.imread(os.path.join(gray_p_test_ce,image))\n",
        "    gray = cv2.cvtColor(img2,cv2.COLOR_BGR2GRAY)\n",
        "    \n",
        "    clahe = cv2.createCLAHE(clipLimit = 12, tileGridSize=(8,8))\n",
        "\n",
        "    img_clahe = clahe.apply(gray)\n",
        "    cv2.imwrite(os.path.join(gray_p_clahe_test_ce,image),img_clahe)"
      ]
    },
    {
      "cell_type": "code",
      "execution_count": null,
      "metadata": {
        "colab": {
          "base_uri": "https://localhost:8080/"
        },
        "id": "TmeYk1ba6Aso",
        "outputId": "fecb140b-375e-4cf4-953a-5b99515c59e6"
      },
      "outputs": [
        {
          "name": "stdout",
          "output_type": "stream",
          "text": [
            "Directory already exist, images will be written in asme folder\n"
          ]
        }
      ],
      "source": [
        "gray_p_test_fi = '/content/drive/MyDrive/All_Dataset/gray + P/test_cell/fi'\n",
        "gray_p_clahe_test_fi = '/content/drive/MyDrive/All_Dataset/gray + P + CLAHE/test_cell/fi'\n",
        "\n",
        "try:\n",
        "    makedirs(gray_p_clahe_test_fi)\n",
        "except:\n",
        "    print (\"Directory already exist, images will be written in asme folder\")\n",
        "\n",
        "# Folder won't used\n",
        "files = os.listdir(gray_p_test_fi)\n",
        "\n",
        "for image in files:\n",
        "    img2 = cv2.imread(os.path.join(gray_p_test_fi,image))\n",
        "    gray = cv2.cvtColor(img2,cv2.COLOR_BGR2GRAY)\n",
        "    \n",
        "    clahe = cv2.createCLAHE(clipLimit = 12, tileGridSize=(8,8))\n",
        "\n",
        "    img_clahe = clahe.apply(gray)\n",
        "    cv2.imwrite(os.path.join(gray_p_clahe_test_fi,image),img_clahe)"
      ]
    },
    {
      "cell_type": "code",
      "execution_count": null,
      "metadata": {
        "colab": {
          "base_uri": "https://localhost:8080/"
        },
        "id": "k9J6OMif6A5o",
        "outputId": "f409db24-a655-46f9-a1dd-f817215012b6"
      },
      "outputs": [
        {
          "name": "stdout",
          "output_type": "stream",
          "text": [
            "Directory already exist, images will be written in asme folder\n"
          ]
        }
      ],
      "source": [
        "gray_p_test_os = '/content/drive/MyDrive/All_Dataset/gray + P/test_cell/os'\n",
        "gray_p_clahe_test_os = '/content/drive/MyDrive/All_Dataset/gray + P + CLAHE/test_cell/os'\n",
        "\n",
        "try:\n",
        "    makedirs(gray_p_clahe_test_os)\n",
        "except:\n",
        "    print (\"Directory already exist, images will be written in asme folder\")\n",
        "\n",
        "# Folder won't used\n",
        "files = os.listdir(gray_p_test_os)\n",
        "\n",
        "for image in files:\n",
        "    img2 = cv2.imread(os.path.join(gray_p_test_os,image))\n",
        "    gray = cv2.cvtColor(img2,cv2.COLOR_BGR2GRAY)\n",
        "    \n",
        "    clahe = cv2.createCLAHE(clipLimit = 12, tileGridSize=(8,8))\n",
        "\n",
        "    img_clahe = clahe.apply(gray)\n",
        "    cv2.imwrite(os.path.join(gray_p_clahe_test_os,image),img_clahe)"
      ]
    },
    {
      "attachments": {},
      "cell_type": "markdown",
      "metadata": {
        "id": "0Z_DWgQ66BaT"
      },
      "source": [
        "# Function label and jpg and png"
      ]
    },
    {
      "cell_type": "code",
      "execution_count": 2,
      "metadata": {
        "id": "Wv_f-Bni6FXn"
      },
      "outputs": [],
      "source": [
        "# %load _utils\n",
        "import matplotlib.pyplot as plt\n",
        "from sklearn.metrics import confusion_matrix, classification_report\n",
        "from keras import backend as K\n",
        "\n",
        "# Test\n",
        "def print_hello():\n",
        "    print('Hello')\n",
        "\n",
        "# define a function to plot the result from training step\n",
        "def show_result(history): \n",
        "    temph = history.history\n",
        "    temp_loss = temph['loss']\n",
        "    temp_acc = temph['acc']\n",
        "    temp_vloss = temph['val_acc']\n",
        "    temp_vacc = temph['val_acc']\n",
        "\n",
        "    max_valacc = max(temp_vacc)\n",
        "    max_index = temp_vacc.index(max_valacc)\n",
        "    max_index\n",
        "    # Print the result from the last epoch\n",
        "    print('Highest validation accuracy in Epoch: %s'%str(max_index+1))\n",
        "    print('Train accuracy: %s'%temp_acc[max_index])\n",
        "    print('Validation accuracy: %s'%temp_vacc[max_index])\n",
        "    print('--------------------------------------------------')\n",
        "    print('Last train Epoch')\n",
        "    print('Train accuracy: %s'%history.history['acc'][-1])\n",
        "    print('Validation accuracy: %s'%history.history['val_acc'][-1])\n",
        "\n",
        "    \n",
        "    loss = history.history['loss']\n",
        "    val_loss = history.history['val_loss']\n",
        "    \n",
        "    acc = history.history['acc']\n",
        "    val_acc = history.history['val_acc']\n",
        "    \n",
        "    epochs = range(1, len(loss) + 1)   \n",
        "    \n",
        "    # Define a subplot \n",
        "    fig, axs = plt.subplots(1,2,figsize=(15,4))\n",
        "    \n",
        "    # Plot loss\n",
        "    loss_plot = axs[0]\n",
        "    \n",
        "    loss_plot.plot(epochs, loss, 'c--', label='Training loss')\n",
        "    loss_plot.plot(epochs, val_loss, 'b', label='Validation loss')\n",
        "    loss_plot.set_title('Training and validation loss')\n",
        "    loss_plot.set_xlabel('Epochs')\n",
        "    loss_plot.set_ylabel('Loss')\n",
        "    loss_plot.legend()\n",
        "    \n",
        "    # Plot accuracy\n",
        "    acc_plot = axs[1]\n",
        "    \n",
        "    acc_plot.plot(epochs, acc, 'c--', label='Training acc')\n",
        "    acc_plot.plot(epochs, val_acc, 'b', label='Validation acc')\n",
        "    acc_plot.set_title('Training and validation accuracy')\n",
        "    acc_plot.set_xlabel('Epochs')\n",
        "    acc_plot.set_ylabel('Accuracy')\n",
        "    acc_plot.legend()\n",
        "\n",
        "# Define an evaluation function to print the evaluation result\n",
        "def evaluation_report(model,features,labels):\n",
        "    \n",
        "    # Calculate result\n",
        "    result = model.evaluate(features,verbose=True)\n",
        "    \n",
        "    # Predict and convert into a class\n",
        "    pred_class = model.predict(features).argmax(axis=1)\n",
        "    #labels = labels.argmax(axis=1)\n",
        "    # Show report\n",
        "    print(confusion_matrix(labels,pred_class))\n",
        "    print(classification_report(labels,pred_class))\n",
        "    print(\"Loss: %s Accuracy: %s\" %(result[0],result[1]))\n",
        "    \n",
        "    return pred_class\n",
        "\n",
        "\n",
        "# Show a subplot of the incorrect predict data\n",
        "def show_false_prediction(predict, feature, label, img_size=28, channel=1):\n",
        "\n",
        "    false_pred = feature[(predict != label).tolist()]\n",
        "    actual_label = label[(predict != label).tolist()]\n",
        "    false_label = predict[(predict != label).tolist()]\n",
        "    if channel == 3:\n",
        "        false_pred = false_pred.reshape(false_pred.shape[0],img_size,img_size,channel)\n",
        "    elif channel == 1:\n",
        "        false_pred = false_pred.reshape(false_pred.shape[0],img_size,img_size)\n",
        "    else:\n",
        "        raise ValueError('Must be RGB or gray scale image')\n",
        "    \n",
        "    print(false_pred.shape)\n",
        "\n",
        "    fig, ax = plt.subplots(3,10,figsize=(15,6))\n",
        "    fig.suptitle('The incorrect prediction')\n",
        "\n",
        "    for i in range(3):\n",
        "        for j in range(10):\n",
        "            ax[i,j].imshow(false_pred[j + i*10],cmap='gray')\n",
        "            ax[i,j].set_title('Pred %s Act %s'%(false_label[j + i*10],actual_label[j + i*10]))\n",
        "            \n",
        "# Show activation value of each layer\n",
        "def show_layer_activation(activation, model,num_layer,num_row=16):\n",
        "    layer_names = []\n",
        "    for layer in model.layers[:num_layer]:\n",
        "        layer_names.append(layer.name)\n",
        "\n",
        "    images_per_row = num_row\n",
        "    for layer_name, layer_activation in zip(layer_names,activation):\n",
        "        n_features = layer_activation.shape[-1]\n",
        "\n",
        "        size = layer_activation.shape[1]\n",
        "\n",
        "        n_cols = n_features//images_per_row\n",
        "        display_grid = np.zeros((size * n_cols, images_per_row * size))\n",
        "\n",
        "        for col in range(n_cols):\n",
        "            for row in range(images_per_row):\n",
        "                channel_image = layer_activation[0,:,:,col*images_per_row + row]\n",
        "                channel_image -= channel_image.mean()\n",
        "                channel_image /= channel_image.std()\n",
        "                channel_image *= 64\n",
        "                channel_image += 128\n",
        "                channel_image = np.clip(channel_image, 0,255).astype('uint8')\n",
        "                display_grid[col*size:(col +1)*size,\n",
        "                             row*size:(row+1)*size] = channel_image\n",
        "        scale = 1./size\n",
        "        plt.figure(figsize=(scale*display_grid.shape[1],\n",
        "                           scale*display_grid.shape[0]))\n",
        "        plt.title(layer_name)\n",
        "        plt.grid(False)\n",
        "        plt.imshow(display_grid, aspect='auto', cmap='viridis')\n",
        "        \n",
        "        \n",
        "def deprocess_image(img):\n",
        "    \n",
        "    # Zero-centering and make sure that std is 0.1\n",
        "    img -= img.mean()\n",
        "    img /= (img.std() + 1e-5)\n",
        "    img *= 0.1\n",
        "    \n",
        "    # Clips to [0,1]\n",
        "    img += 0.5\n",
        "    img = np.clip(img,0,1)\n",
        "    \n",
        "    # Convert to RGB array\n",
        "    img *= 255\n",
        "    img = np.clip(img,0,255).astype('uint8')\n",
        "    \n",
        "    return img\n",
        "\n",
        "def generate_pattern(model, layer_name , filter_index, size=150):\n",
        "    # Build the loss function that maximize the activation of the nth filter of the layer under consideration\n",
        "    layer_output = model.get_layer(layer_name).output\n",
        "    loss = K.mean(layer_output[:,:,:,filter_index])\n",
        "    \n",
        "    # Compute the gradient of the input picture with regard to this loss\n",
        "    grads = K.gradients(loss, model.input)[0]\n",
        "    \n",
        "    # Normalize the gradient\n",
        "    grads /= (K.sqrt(K.mean(K.square(grads))) +1e-5)\n",
        "    \n",
        "    # Return the loss and gradient given the input picture\n",
        "    iterate = K.function([model.input],[loss, grads])\n",
        "    \n",
        "    # Stars from a gray image with some noise\n",
        "    input_img_data = np.random.random((1, size, size, 3)) * 20 + 128.\n",
        "    \n",
        "    # Run gradient ascent for 40 step\n",
        "    step = 1.\n",
        "    for i in range(40):\n",
        "        loss_value, grads_value = iterate([input_img_data])\n",
        "        input_img_data += grads_value * step\n",
        "        \n",
        "    img = input_img_data[0]\n",
        "    return deprocess_image(img)\n",
        "\n",
        "### feed layer name. ie, 'conv_1'\n",
        "def visualize_filter(model,layer_name, size= 64, margin = 5):\n",
        "\n",
        "    # Empty black image to store results\n",
        "    results = np.zeros((8 * size + 7 * margin, 8 * size + 7 * margin, 3))\n",
        "\n",
        "    # iterate over the row of result grid\n",
        "    for i in range(8):\n",
        "        # Iterate over the column of the result grid\n",
        "        for j in range(8):\n",
        "            # Generates the pattern for filter i + (j*8) in layer_name\n",
        "            filter_img = generate_pattern(model, layer_name, i + (j*8), size=size)\n",
        "            \n",
        "            # Puts the result in the square (i,j) of the results grid\n",
        "            horizontal_start = i * size + i * margin\n",
        "            horizontal_end = horizontal_start + size\n",
        "            vertical_start = j * size + j * margin\n",
        "            vertical_end = vertical_start + size\n",
        "            results[horizontal_start:horizontal_end,\n",
        "                    vertical_start:vertical_end, :] = filter_img\n",
        "\n",
        "    plt.figure(figsize=(20,20))\n",
        "    plt.imshow(results)"
      ]
    },
    {
      "cell_type": "code",
      "execution_count": 3,
      "metadata": {
        "id": "9PoRnmoPRd3g"
      },
      "outputs": [],
      "source": [
        "from tqdm.notebook import tqdm\n",
        "import os, fnmatch\n",
        "from keras import backend as K\n",
        "from pathlib import Path\n",
        "# change sub directory in list\n",
        "def dirToList(dir_path):\n",
        "  \n",
        "  #get path create list\n",
        "  pth = os.listdir(path=dir_path)\n",
        "  lst_dir = []\n",
        "\n",
        "  for s in pth:\n",
        "    temp = str(dir_path + '\\\\' + s + '\\\\')\n",
        "    lst_dir.append(temp)\n",
        "  \n",
        "  #remove .csv\n",
        "  for i in tqdm(range(len(lst_dir))):\n",
        "    if lst_dir[i-1][len(lst_dir[i-1])-4:] == 'csv/':\n",
        "      lst_dir.pop(i-1)\n",
        "    if lst_dir[i-1][len(lst_dir[i-1])-4:] == 'md/':\n",
        "      lst_dir.pop(i-1)\n",
        "\n",
        "  return lst_dir\n",
        "# map path to name\n",
        "def mapName(lab_list, lab_dict):\n",
        "  temp = []\n",
        "  for i in tqdm(range(len(lab_list))):\n",
        "    key_label = lab_dict[lab_list[i]]\n",
        "    temp.append(key_label)\n",
        "  return temp"
      ]
    },
    {
      "attachments": {},
      "cell_type": "markdown",
      "metadata": {
        "id": "rYIIXSuORj3o"
      },
      "source": [
        "## Data label check jpg and png"
      ]
    },
    {
      "attachments": {},
      "cell_type": "markdown",
      "metadata": {
        "id": "kpagijlqJ0Lw"
      },
      "source": [
        "#### original"
      ]
    },
    {
      "cell_type": "code",
      "execution_count": 4,
      "metadata": {
        "id": "fYhW4BmVRoC_"
      },
      "outputs": [],
      "source": [
        "origi_train_ce = os.listdir('C:\\\\Users\\\\CPE\\\\Desktop\\\\senior2023\\\\original\\\\train_cell\\\\Cemento')\n",
        "origi_train_fi = os.listdir('C:\\\\Users\\\\CPE\\\\Desktop\\\\senior2023\\\\original\\\\train_cell\\\\Fibrous')\n",
        "origi_train_os = os.listdir('C:\\\\Users\\\\CPE\\\\Desktop\\\\senior2023\\\\original\\\\train_cell\\\\Ossifying')\n",
        "origi_test_ce = os.listdir('C:\\\\Users\\\\CPE\\\\Desktop\\\\senior2023\\\\original\\\\test_cell\\\\Cemento')\n",
        "origi_test_fi = os.listdir('C:\\\\Users\\\\CPE\\Desktop\\\\senior2023\\\\original\\\\test_cell\\\\Fibrous')\n",
        "origi_test_os = os.listdir('C:\\\\Users\\\\CPE\\Desktop\\\\senior2023\\\\original\\\\test_cell\\\\Ossifying')"
      ]
    },
    {
      "cell_type": "code",
      "execution_count": 5,
      "metadata": {},
      "outputs": [
        {
          "data": {
            "text/plain": [
              "15"
            ]
          },
          "execution_count": 5,
          "metadata": {},
          "output_type": "execute_result"
        }
      ],
      "source": [
        "len(origi_test_ce)"
      ]
    },
    {
      "attachments": {},
      "cell_type": "markdown",
      "metadata": {
        "id": "IhveZrtzJ4mB"
      },
      "source": [
        "#### gray"
      ]
    },
    {
      "cell_type": "code",
      "execution_count": 6,
      "metadata": {
        "id": "S324_u3MKDv7"
      },
      "outputs": [],
      "source": [
        "gray_train_ce = os.listdir('C:\\\\Users\\\\CPE\\\\Desktop\\\\senior2023\\\\gray\\\\train_cell\\\\ce')\n",
        "gray_train_fi = os.listdir('C:\\\\Users\\\\CPE\\\\Desktop\\\\senior2023\\\\gray\\\\train_cell\\\\fi')\n",
        "gray_train_os = os.listdir('C:\\\\Users\\\\CPE\\\\Desktop\\\\senior2023\\\\gray\\\\train_cell\\\\os')\n",
        "gray_test_ce = os.listdir('C:\\\\Users\\\\CPE\\\\Desktop\\\\senior2023\\\\gray\\\\test_cell\\\\ce')\n",
        "gray_test_fi = os.listdir('C:\\\\Users\\\\CPE\\\\Desktop\\\\senior2023\\\\gray\\\\test_cell\\\\ce')\n",
        "gray_test_os = os.listdir('C:\\\\Users\\\\CPE\\\\Desktop\\\\senior2023\\\\gray\\\\test_cell\\\\ce')"
      ]
    },
    {
      "attachments": {},
      "cell_type": "markdown",
      "metadata": {
        "id": "f1ndk4vzKBzf"
      },
      "source": [
        "#### ghe"
      ]
    },
    {
      "cell_type": "code",
      "execution_count": 7,
      "metadata": {
        "id": "TGsp1X8nRjVb"
      },
      "outputs": [],
      "source": [
        "ghe_train_ce = os.listdir('C:\\\\Users\\\\CPE\\\\Desktop\\\\senior2023\\\\GHE\\\\train_cell\\\\ce')\n",
        "ghe_train_fi = os.listdir('C:\\\\Users\\\\CPE\\\\Desktop\\\\senior2023\\\\GHE\\\\train_cell\\\\fi')\n",
        "ghe_train_os = os.listdir('C:\\\\Users\\\\CPE\\\\Desktop\\\\senior2023\\\\GHE\\\\train_cell\\\\os')\n",
        "ghe_test_ce = os.listdir('C:\\\\Users\\\\CPE\\\\Desktop\\\\senior2023\\\\GHE\\\\test_cell\\\\ce')\n",
        "ghe_test_fi = os.listdir('C:\\\\Users\\\\CPE\\\\Desktop\\\\senior2023\\\\GHE\\\\test_cell\\\\fi')\n",
        "ghe_test_os = os.listdir('C:\\\\Users\\\\CPE\\\\Desktop\\\\senior2023\\\\GHE\\\\test_cell\\\\os')"
      ]
    },
    {
      "attachments": {},
      "cell_type": "markdown",
      "metadata": {
        "id": "32xw5Xj_KMC8"
      },
      "source": [
        "#### clahe"
      ]
    },
    {
      "cell_type": "code",
      "execution_count": 8,
      "metadata": {
        "id": "DTGiHAM4KNoo"
      },
      "outputs": [],
      "source": [
        "clahe_train_ce = os.listdir('C:\\\\Users\\\\CPE\\\\Desktop\\\\senior2023\\\\CLAHE\\\\train_cell\\\\ce')\n",
        "clahe_train_fi = os.listdir('C:\\\\Users\\\\CPE\\\\Desktop\\\\senior2023\\\\CLAHE\\\\train_cell\\\\fi')\n",
        "clahe_train_os = os.listdir('C:\\\\Users\\\\CPE\\\\Desktop\\\\senior2023\\\\CLAHE\\\\train_cell\\\\os')\n",
        "clahe_test_ce = os.listdir('C:\\\\Users\\\\CPE\\\\Desktop\\\\senior2023\\\\CLAHE\\\\test_cell\\\\ce')\n",
        "clahe_test_fi = os.listdir('C:\\\\Users\\\\CPE\\\\Desktop\\\\senior2023\\\\CLAHE\\\\test_cell\\\\fi')\n",
        "clahe_test_os = os.listdir('C:\\\\Users\\\\CPE\\\\Desktop\\\\senior2023\\\\CLAHE\\\\test_cell\\\\os')"
      ]
    },
    {
      "attachments": {},
      "cell_type": "markdown",
      "metadata": {
        "id": "WN_WhDvNMEcC"
      },
      "source": [
        "#### gray+p+ghe"
      ]
    },
    {
      "cell_type": "code",
      "execution_count": 9,
      "metadata": {
        "id": "lS4afS0kMK0k"
      },
      "outputs": [],
      "source": [
        "gray_p_ghe_train_ce = os.listdir('C:\\\\Users\\\\CPE\\\\Desktop\\\\senior2023\\\\gray_P_GHE\\\\train_cell\\\\ce')\n",
        "gray_p_ghe_train_fi = os.listdir('C:\\\\Users\\\\CPE\\\\Desktop\\\\senior2023\\\\gray_P_GHE\\\\train_cell\\\\fi')\n",
        "gray_p_ghe_train_os = os.listdir('C:\\\\Users\\\\CPE\\\\Desktop\\\\senior2023\\\\gray_P_GHE\\\\train_cell\\\\os')\n",
        "gray_p_ghe_test_ce = os.listdir('C:\\\\Users\\\\CPE\\\\Desktop\\\\senior2023\\\\gray_P_GHE\\\\test_cell\\\\ce')\n",
        "gray_p_ghe_test_fi = os.listdir('C:\\\\Users\\\\CPE\\\\Desktop\\\\senior2023\\\\gray_P_GHE\\\\test_cell\\\\fi')\n",
        "gray_p_ghe_test_os = os.listdir('C:\\\\Users\\\\CPE\\\\Desktop\\\\senior2023\\\\gray_P_GHE\\\\test_cell\\\\os')"
      ]
    },
    {
      "attachments": {},
      "cell_type": "markdown",
      "metadata": {
        "id": "HUN2UuabMLbu"
      },
      "source": [
        "#### gray+p+clahe"
      ]
    },
    {
      "cell_type": "code",
      "execution_count": 10,
      "metadata": {
        "id": "dtBEcSBtMQb5"
      },
      "outputs": [],
      "source": [
        "gray_p_clahe_train_ce = os.listdir('C:\\\\Users\\\\CPE\\\\Desktop\\\\senior2023\\\\gray + P + CLAHE\\\\train_cell\\\\ce')\n",
        "gray_p_clahe_train_fi = os.listdir('C:\\\\Users\\\\CPE\\\\Desktop\\\\senior2023\\\\gray + P + CLAHE\\\\train_cell\\\\fi')\n",
        "gray_p_clahe_train_os = os.listdir('C:\\\\Users\\\\CPE\\\\Desktop\\\\senior2023\\\\gray + P + CLAHE\\\\train_cell\\\\os')\n",
        "gray_p_clahe_test_ce = os.listdir('C:\\\\Users\\\\CPE\\\\Desktop\\\\senior2023\\\\gray + P + CLAHE\\\\test_cell\\\\ce')\n",
        "gray_p_clahe_test_fi = os.listdir('C:\\\\Users\\\\CPE\\\\Desktop\\\\senior2023\\\\gray + P + CLAHE\\\\test_cell\\\\fi')\n",
        "gray_p_clahe_test_os = os.listdir('C:\\\\Users\\\\CPE\\\\Desktop\\\\senior2023\\\\gray + P + CLAHE\\\\test_cell\\\\os')"
      ]
    },
    {
      "attachments": {},
      "cell_type": "markdown",
      "metadata": {
        "id": "JlGFrMT9QDL7"
      },
      "source": [
        "#### sum"
      ]
    },
    {
      "cell_type": "code",
      "execution_count": 11,
      "metadata": {
        "id": "-ou2cUEnPitu"
      },
      "outputs": [],
      "source": [
        "all_dataset_train_gray = list(gray_train_ce) + list(gray_train_fi) +list(gray_train_os)\n",
        "all_dataset_test_gray = list(gray_test_ce) + list(gray_test_fi) +list(gray_test_os)\n",
        "all_gray = list(all_dataset_train_gray) + list(all_dataset_test_gray)"
      ]
    },
    {
      "cell_type": "code",
      "execution_count": 12,
      "metadata": {
        "id": "Wywr2iuhQANv"
      },
      "outputs": [],
      "source": [
        "all_dataset_train_ghe = list(ghe_train_ce) + list(ghe_train_fi) +list(ghe_train_os)\n",
        "all_dataset_test_ghe = list(ghe_test_ce) + list(ghe_test_fi) +list(ghe_test_os)\n",
        "all_ghe = list(all_dataset_train_ghe) + list(all_dataset_test_ghe)"
      ]
    },
    {
      "cell_type": "code",
      "execution_count": 13,
      "metadata": {
        "id": "rgLp0R-JQBJo"
      },
      "outputs": [],
      "source": [
        "all_dataset_train_clahe = list(clahe_train_ce) + list(clahe_train_fi) +list(clahe_train_os)\n",
        "all_dataset_test_clahe = list(clahe_test_ce) + list(clahe_test_fi) +list(clahe_test_os)\n",
        "all_clahe = list(all_dataset_train_clahe) + list(all_dataset_test_clahe)"
      ]
    },
    {
      "cell_type": "code",
      "execution_count": 14,
      "metadata": {},
      "outputs": [],
      "source": [
        "all_dataset = all_gray + all_ghe + all_clahe"
      ]
    },
    {
      "cell_type": "code",
      "execution_count": 15,
      "metadata": {
        "id": "-5mszX7HQAUO"
      },
      "outputs": [
        {
          "name": "stdout",
          "output_type": "stream",
          "text": [
            "[]\n"
          ]
        }
      ],
      "source": [
        "ce_not = [x for x in all_dataset if not x.endswith('.png')]\n",
        "print(ce_not)"
      ]
    }
  ],
  "metadata": {
    "accelerator": "GPU",
    "colab": {
      "provenance": []
    },
    "gpuClass": "standard",
    "kernelspec": {
      "display_name": "tf",
      "language": "python",
      "name": "python3"
    },
    "language_info": {
      "codemirror_mode": {
        "name": "ipython",
        "version": 3
      },
      "file_extension": ".py",
      "mimetype": "text/x-python",
      "name": "python",
      "nbconvert_exporter": "python",
      "pygments_lexer": "ipython3",
      "version": "3.7.16"
    },
    "vscode": {
      "interpreter": {
        "hash": "68a2f6ddab7867fc01a674cdab8fd27cd59c8918be54f161b32cf4474060de99"
      }
    }
  },
  "nbformat": 4,
  "nbformat_minor": 0
}
